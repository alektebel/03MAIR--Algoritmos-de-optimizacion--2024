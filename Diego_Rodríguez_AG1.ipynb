{
  "nbformat": 4,
  "nbformat_minor": 0,
  "metadata": {
    "colab": {
      "provenance": [],
      "authorship_tag": "ABX9TyMhXTDV9DH7BfNVl0vNf1FN",
      "include_colab_link": true
    },
    "kernelspec": {
      "name": "python3",
      "display_name": "Python 3"
    },
    "language_info": {
      "name": "python"
    }
  },
  "cells": [
    {
      "cell_type": "markdown",
      "metadata": {
        "id": "view-in-github",
        "colab_type": "text"
      },
      "source": [
        "<a href=\"https://colab.research.google.com/github/alektebel/03MAIR--Algoritmos-de-optimizacion--2024/blob/main/Diego_Rodr%C3%ADguez_AG1.ipynb\" target=\"_parent\"><img src=\"https://colab.research.google.com/assets/colab-badge.svg\" alt=\"Open In Colab\"/></a>"
      ]
    },
    {
      "cell_type": "markdown",
      "source": [
        "# Actividad guiada 1"
      ],
      "metadata": {
        "id": "BIFVgcdqNheB"
      }
    },
    {
      "cell_type": "code",
      "source": [
        "url_gh_AG1 = https://github.com/alektebel/03MAIR--Algoritmos-de-optimizacion--2024/tree/main/AG1"
      ],
      "metadata": {
        "id": "uJVA0h1qNl14"
      },
      "execution_count": null,
      "outputs": []
    },
    {
      "cell_type": "markdown",
      "source": [
        "### Decorador para medir el tiempo de ejecución"
      ],
      "metadata": {
        "id": "gxTVQUqOHWVY"
      }
    },
    {
      "cell_type": "code",
      "source": [
        "def medir_tiempo(func):\n",
        "  def wrapper(*args, **kwargs):\n",
        "    import time\n",
        "    inicio = time.time()\n",
        "    resultado = func(*args, **kwargs)\n",
        "    tiempo = (time.time() - inicio) *1000000\n",
        "    print(f\"Tiempo de ejecución: {tiempo:.2f} microseconds\")\n",
        "    return resultado\n",
        "  return wrapper"
      ],
      "metadata": {
        "id": "q1aeel1wHbDp"
      },
      "execution_count": 12,
      "outputs": []
    },
    {
      "cell_type": "markdown",
      "source": [
        "Algoritmo de euclides"
      ],
      "metadata": {
        "id": "lHCGgX1yzbZ4"
      }
    },
    {
      "cell_type": "code",
      "source": [
        "@medir_tiempo\n",
        "def euclides(a, b):\n",
        "  if b < a:\n",
        "    b, a = a, b\n",
        "  while(b):\n",
        "    a, b = b, a % b\n",
        "  return a"
      ],
      "metadata": {
        "id": "0k3sRvBv1R0a"
      },
      "execution_count": 13,
      "outputs": []
    },
    {
      "cell_type": "code",
      "source": [
        "test_time = [(105000, 400000), (20000230, 10000650), (1870000000, 1000654000)]\n",
        "\n",
        "\n",
        "for test in test_time:\n",
        "  print(f\"Test: {test}\")\n",
        "  euclides(*test)\n"
      ],
      "metadata": {
        "colab": {
          "base_uri": "https://localhost:8080/"
        },
        "id": "aUq5opkP1W36",
        "outputId": "1cb84188-5aad-4801-d798-a2de25eb7bb2"
      },
      "execution_count": 16,
      "outputs": [
        {
          "output_type": "stream",
          "name": "stdout",
          "text": [
            "Test: (105000, 400000)\n",
            "Tiempo de ejecución: 3.34 microseconds\n",
            "Test: (20000230, 10000650)\n",
            "Tiempo de ejecución: 1.67 microseconds\n",
            "Test: (1870000000, 1000654000)\n",
            "Tiempo de ejecución: 3.10 microseconds\n"
          ]
        }
      ]
    },
    {
      "cell_type": "markdown",
      "source": [
        "Algoritmo de heron"
      ],
      "metadata": {
        "id": "E9gXI2_70Emb"
      }
    },
    {
      "cell_type": "code",
      "source": [
        "@medir_tiempo\n",
        "def heron(x0, p, tol):\n",
        "  while(abs(x0**2-p) > tol):\n",
        "    x0 = (x0 + p / x0) / 2\n",
        "  return x0"
      ],
      "metadata": {
        "id": "R29VHRxJzbns"
      },
      "execution_count": 23,
      "outputs": []
    },
    {
      "cell_type": "code",
      "source": [
        "tests = [2, 3, 4, 5, 6]\n",
        "tol = 0.001\n",
        "\n",
        "import numpy as np\n",
        "\n",
        "for test in tests:\n",
        "  print(f\"Test: {test}\")\n",
        "  print('La raiz de '+str(test) + ' -> ' +str(heron(1, test, tol)))\n",
        "  print('La raiz real es: ', np.sqrt(test))"
      ],
      "metadata": {
        "colab": {
          "base_uri": "https://localhost:8080/"
        },
        "id": "CK-_JvQ6KXCd",
        "outputId": "0253fbc8-a941-424d-bf39-2c553360e055"
      },
      "execution_count": 24,
      "outputs": [
        {
          "output_type": "stream",
          "name": "stdout",
          "text": [
            "Test: 2\n",
            "Tiempo de ejecución: 16.93 microseconds\n",
            "La raiz de 2 -> 1.4142156862745097\n",
            "La raiz real es:  1.4142135623730951\n",
            "Test: 3\n",
            "Tiempo de ejecución: 9.54 microseconds\n",
            "La raiz de 3 -> 1.7321428571428572\n",
            "La raiz real es:  1.7320508075688772\n",
            "Test: 4\n",
            "Tiempo de ejecución: 7.15 microseconds\n",
            "La raiz de 4 -> 2.0000000929222947\n",
            "La raiz real es:  2.0\n",
            "Test: 5\n",
            "Tiempo de ejecución: 5.72 microseconds\n",
            "La raiz de 5 -> 2.2360688956433634\n",
            "La raiz real es:  2.23606797749979\n",
            "Test: 6\n",
            "Tiempo de ejecución: 4.29 microseconds\n",
            "La raiz de 6 -> 2.4494943716069653\n",
            "La raiz real es:  2.449489742783178\n"
          ]
        }
      ]
    },
    {
      "cell_type": "markdown",
      "source": [
        "## Problema de autobuses\n",
        "\n",
        "Desarrollo e implementación de algoritmos. Ejemplo\n",
        "Una pequeña ciudad estudia introducir un sistema de transporte urbano de\n",
        "autobuses. Nos encargan estudiar el número mínimo de autobuses para\n",
        "cubrir la demanda. Se ha realizado un estudio para estimar el número\n",
        "mínimo de autobuses por franja horaria. Lógicamente este número varia\n",
        "dependiendo de la hora del día. Se observa que es posible dividir la franja\n",
        "horaria de 24h en tramos de 4 horas en los queda determinado el número\n",
        "de autobuses que se necesitan. Debido a la normativa cada autobús debe\n",
        "circular 8 horas como máximo y seguidas en cada jornada de 24h"
      ],
      "metadata": {
        "id": "IDXSCZG50HA2"
      }
    },
    {
      "cell_type": "code",
      "source": [
        "req_buses = [8, 10, 7, 12, 6, 9]\n",
        "tramos = len(req_buses)\n",
        "x = [0]*tramos"
      ],
      "metadata": {
        "id": "Z16u8CitGZHT"
      },
      "execution_count": 25,
      "outputs": []
    },
    {
      "cell_type": "markdown",
      "source": [
        "Queremos minimizar el número de autobuses que necesitamos, lo que podemos expresar como el máximo entre los \\(x_t\\) donde estos son los autobuses utilizados. Además contamos con las condiciones antes expresadas, por lo que tenemos un problema de programación lineal:\n",
        "$$\n",
        "  min_x max_t x_t\n",
        "$$\n",
        "Las condiciones son\n",
        "$$\n",
        "x_t+x_{t+1} \\leq r_t\n",
        "$$\n",
        "Donde $r_t$ son los autobuses requeridos en la franja de tiempo t.\n",
        "\n"
      ],
      "metadata": {
        "id": "3yMUX6YBaN6S"
      }
    },
    {
      "cell_type": "code",
      "source": [
        "#Una forma de resolver el problema a fuerza bruta sería:\n",
        "\n",
        "#Probamos con un número alto de autobuses y vamos bajando el número, probando todas las combinaciones\n",
        "#posibles de autobuses en los rangos.\n",
        "n_autobuses = [i for i in range(12, 18)]"
      ],
      "metadata": {
        "id": "CbsL0wiHZORw"
      },
      "execution_count": 3,
      "outputs": []
    },
    {
      "cell_type": "code",
      "source": [
        "n_autobuses"
      ],
      "metadata": {
        "colab": {
          "base_uri": "https://localhost:8080/"
        },
        "id": "RgAnx2uOMBUS",
        "outputId": "c82e29a6-f6f5-46ba-a2f8-ce7b83e73bd0"
      },
      "execution_count": 4,
      "outputs": [
        {
          "output_type": "execute_result",
          "data": {
            "text/plain": [
              "[12, 13, 14, 15, 16, 17]"
            ]
          },
          "metadata": {},
          "execution_count": 4
        }
      ]
    },
    {
      "cell_type": "code",
      "source": [
        "from itertools import combinations\n",
        "\n",
        "\n",
        "def solucion_valida(solution, req_buses, num_buses):\n",
        "    \"\"\"\n",
        "    Comprueba si una solución es válida\n",
        "    \"\"\"\n",
        "    for i in range(len(req_buses)):\n",
        "        if sum(solution[i:i+2]) < req_buses[i]:#Los buses deben estar de tal forma que se ajusten a la correspondiente demanda\n",
        "            return False\n",
        "    if sum(solution) > num_buses:#No puede utilizar más buses de los que tiene\n",
        "        return False\n",
        "    return True\n",
        "\n",
        "def encontrar_solucion_brute_force(demanda, lb_buses = 15, up_buses = 30):\n",
        "    \"\"\"\n",
        "    Encuentra alguna solución posible utilizando fuerza bruta\n",
        "    \"\"\"\n",
        "    # Generar todos los posibles turnos válidos de 8 horas (2 franjas consecutivas)\n",
        "    x = [0]*len(demanda)\n",
        "    min_buses = float('inf')\n",
        "    mejor_solucion = None\n",
        "\n",
        "    for num_buses in range(lb_buses, up_buses+1):\n",
        "      print('Buscando solución para ', num_buses, ' buses')\n",
        "      for sol_c in range(num_buses**(len(demanda))):\n",
        "\n",
        "        sol = []\n",
        "        for _ in range(len(demanda)):\n",
        "          sol.append(sol_c % num_buses)\n",
        "          sol_c //= num_buses\n",
        "\n",
        "        if solucion_valida(sol, demanda, num_buses):\n",
        "          print('Se ha encontrado una solución valida con :', num_buses)\n",
        "          if num_buses < min_buses:\n",
        "            min_buses = num_buses\n",
        "            mejor_solucion = sol\n",
        "            print('La solucion es: ', sol)\n",
        "      if min_buses == float('inf'):\n",
        "        print('Ninguna solución para ', num_buses, ' buses.')\n",
        "    return min_buses, mejor_solucion\n",
        "\n",
        "\n",
        "# Ejemplo de uso\n",
        "if __name__ == \"__main__\":\n",
        "    # Ejemplo de demanda por franja horaria (00-04, 04-08, 08-12, 12-16, 16-20, 20-24)\n",
        "    demand = [8, 10, 7, 12, 6, 9]\n",
        "\n",
        "    min_buses, solucion = encontrar_solucion_brute_force(demand, 30, 35)\n"
      ],
      "metadata": {
        "colab": {
          "base_uri": "https://localhost:8080/",
          "height": 339
        },
        "id": "65R7RGbKCS5n",
        "outputId": "19062b3c-f9bf-4fd8-da6a-610aae81164e"
      },
      "execution_count": 14,
      "outputs": [
        {
          "output_type": "stream",
          "name": "stdout",
          "text": [
            "Buscando solución para  30  buses\n"
          ]
        },
        {
          "output_type": "error",
          "ename": "KeyboardInterrupt",
          "evalue": "",
          "traceback": [
            "\u001b[0;31m---------------------------------------------------------------------------\u001b[0m",
            "\u001b[0;31mKeyboardInterrupt\u001b[0m                         Traceback (most recent call last)",
            "\u001b[0;32m<ipython-input-14-10e4a144bde6>\u001b[0m in \u001b[0;36m<cell line: 45>\u001b[0;34m()\u001b[0m\n\u001b[1;32m     47\u001b[0m     \u001b[0mdemand\u001b[0m \u001b[0;34m=\u001b[0m \u001b[0;34m[\u001b[0m\u001b[0;36m8\u001b[0m\u001b[0;34m,\u001b[0m \u001b[0;36m10\u001b[0m\u001b[0;34m,\u001b[0m \u001b[0;36m7\u001b[0m\u001b[0;34m,\u001b[0m \u001b[0;36m12\u001b[0m\u001b[0;34m,\u001b[0m \u001b[0;36m6\u001b[0m\u001b[0;34m,\u001b[0m \u001b[0;36m9\u001b[0m\u001b[0;34m]\u001b[0m\u001b[0;34m\u001b[0m\u001b[0;34m\u001b[0m\u001b[0m\n\u001b[1;32m     48\u001b[0m \u001b[0;34m\u001b[0m\u001b[0m\n\u001b[0;32m---> 49\u001b[0;31m     \u001b[0mmin_buses\u001b[0m\u001b[0;34m,\u001b[0m \u001b[0msolucion\u001b[0m \u001b[0;34m=\u001b[0m \u001b[0mencontrar_solucion_brute_force\u001b[0m\u001b[0;34m(\u001b[0m\u001b[0mdemand\u001b[0m\u001b[0;34m,\u001b[0m \u001b[0;36m30\u001b[0m\u001b[0;34m,\u001b[0m \u001b[0;36m35\u001b[0m\u001b[0;34m)\u001b[0m\u001b[0;34m\u001b[0m\u001b[0;34m\u001b[0m\u001b[0m\n\u001b[0m",
            "\u001b[0;32m<ipython-input-14-10e4a144bde6>\u001b[0m in \u001b[0;36mencontrar_solucion_brute_force\u001b[0;34m(demanda, lb_buses, up_buses)\u001b[0m\n\u001b[1;32m     31\u001b[0m           \u001b[0msol_c\u001b[0m \u001b[0;34m//=\u001b[0m \u001b[0mnum_buses\u001b[0m\u001b[0;34m\u001b[0m\u001b[0;34m\u001b[0m\u001b[0m\n\u001b[1;32m     32\u001b[0m \u001b[0;34m\u001b[0m\u001b[0m\n\u001b[0;32m---> 33\u001b[0;31m         \u001b[0;32mif\u001b[0m \u001b[0msolucion_valida\u001b[0m\u001b[0;34m(\u001b[0m\u001b[0msol\u001b[0m\u001b[0;34m,\u001b[0m \u001b[0mdemanda\u001b[0m\u001b[0;34m,\u001b[0m \u001b[0mnum_buses\u001b[0m\u001b[0;34m)\u001b[0m\u001b[0;34m:\u001b[0m\u001b[0;34m\u001b[0m\u001b[0;34m\u001b[0m\u001b[0m\n\u001b[0m\u001b[1;32m     34\u001b[0m           \u001b[0mprint\u001b[0m\u001b[0;34m(\u001b[0m\u001b[0;34m'Se ha encontrado una solución valida con :'\u001b[0m\u001b[0;34m,\u001b[0m \u001b[0mnum_buses\u001b[0m\u001b[0;34m)\u001b[0m\u001b[0;34m\u001b[0m\u001b[0;34m\u001b[0m\u001b[0m\n\u001b[1;32m     35\u001b[0m           \u001b[0;32mif\u001b[0m \u001b[0mnum_buses\u001b[0m \u001b[0;34m<\u001b[0m \u001b[0mmin_buses\u001b[0m\u001b[0;34m:\u001b[0m\u001b[0;34m\u001b[0m\u001b[0;34m\u001b[0m\u001b[0m\n",
            "\u001b[0;32m<ipython-input-14-10e4a144bde6>\u001b[0m in \u001b[0;36msolucion_valida\u001b[0;34m(solution, req_buses, num_buses)\u001b[0m\n\u001b[1;32m      7\u001b[0m     \"\"\"\n\u001b[1;32m      8\u001b[0m     \u001b[0;32mfor\u001b[0m \u001b[0mi\u001b[0m \u001b[0;32min\u001b[0m \u001b[0mrange\u001b[0m\u001b[0;34m(\u001b[0m\u001b[0mlen\u001b[0m\u001b[0;34m(\u001b[0m\u001b[0mreq_buses\u001b[0m\u001b[0;34m)\u001b[0m\u001b[0;34m)\u001b[0m\u001b[0;34m:\u001b[0m\u001b[0;34m\u001b[0m\u001b[0;34m\u001b[0m\u001b[0m\n\u001b[0;32m----> 9\u001b[0;31m         \u001b[0;32mif\u001b[0m \u001b[0msum\u001b[0m\u001b[0;34m(\u001b[0m\u001b[0msolution\u001b[0m\u001b[0;34m[\u001b[0m\u001b[0mi\u001b[0m\u001b[0;34m:\u001b[0m\u001b[0mi\u001b[0m\u001b[0;34m+\u001b[0m\u001b[0;36m2\u001b[0m\u001b[0;34m]\u001b[0m\u001b[0;34m)\u001b[0m \u001b[0;34m<\u001b[0m \u001b[0mreq_buses\u001b[0m\u001b[0;34m[\u001b[0m\u001b[0mi\u001b[0m\u001b[0;34m]\u001b[0m\u001b[0;34m:\u001b[0m\u001b[0;31m#Los buses deben estar de tal forma que se ajusten a la correspondiente demanda\u001b[0m\u001b[0;34m\u001b[0m\u001b[0;34m\u001b[0m\u001b[0m\n\u001b[0m\u001b[1;32m     10\u001b[0m             \u001b[0;32mreturn\u001b[0m \u001b[0;32mFalse\u001b[0m\u001b[0;34m\u001b[0m\u001b[0;34m\u001b[0m\u001b[0m\n\u001b[1;32m     11\u001b[0m     \u001b[0;32mif\u001b[0m \u001b[0msum\u001b[0m\u001b[0;34m(\u001b[0m\u001b[0msolution\u001b[0m\u001b[0;34m)\u001b[0m \u001b[0;34m>\u001b[0m \u001b[0mnum_buses\u001b[0m\u001b[0;34m:\u001b[0m\u001b[0;31m#No puede utilizar más buses de los que tiene\u001b[0m\u001b[0;34m\u001b[0m\u001b[0;34m\u001b[0m\u001b[0m\n",
            "\u001b[0;31mKeyboardInterrupt\u001b[0m: "
          ]
        }
      ]
    },
    {
      "cell_type": "markdown",
      "source": [
        "Si el numero de tramos es n, vemos que la complejidad de el algoritmo de evaluar todas las posibilidades crece de forma exponencial, concretamente, del orden de O(maxbuses^n) donde maxbuses sería el maximo numero de buses que estaríamos probando en el tramo. Obviamente hay algoritmos mejores que este, como verlo como un problema de programación lineal, y utilizar el algoritmo simplex."
      ],
      "metadata": {
        "id": "B8ClbDkSYR2I"
      }
    }
  ]
}